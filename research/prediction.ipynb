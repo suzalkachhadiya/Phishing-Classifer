{
 "cells": [
  {
   "cell_type": "code",
   "execution_count": 1,
   "metadata": {},
   "outputs": [],
   "source": [
    "import os"
   ]
  },
  {
   "cell_type": "code",
   "execution_count": 2,
   "metadata": {},
   "outputs": [
    {
     "data": {
      "text/plain": [
       "'c:\\\\DataScience\\\\Projects\\\\Phishing_Classifier\\\\research'"
      ]
     },
     "execution_count": 2,
     "metadata": {},
     "output_type": "execute_result"
    }
   ],
   "source": [
    "%pwd"
   ]
  },
  {
   "cell_type": "code",
   "execution_count": 3,
   "metadata": {},
   "outputs": [],
   "source": [
    "os.chdir(\"../\")"
   ]
  },
  {
   "cell_type": "code",
   "execution_count": 4,
   "metadata": {},
   "outputs": [
    {
     "data": {
      "text/plain": [
       "'c:\\\\DataScience\\\\Projects\\\\Phishing_Classifier'"
      ]
     },
     "execution_count": 4,
     "metadata": {},
     "output_type": "execute_result"
    }
   ],
   "source": [
    "%pwd"
   ]
  },
  {
   "cell_type": "code",
   "execution_count": 5,
   "metadata": {},
   "outputs": [],
   "source": [
    "from dataclasses import dataclass\n",
    "from pathlib import Path"
   ]
  },
  {
   "cell_type": "code",
   "execution_count": 6,
   "metadata": {},
   "outputs": [],
   "source": [
    "@dataclass(frozen=True)\n",
    "class PredictionConfig:\n",
    "    model_path: Path"
   ]
  },
  {
   "cell_type": "code",
   "execution_count": 7,
   "metadata": {},
   "outputs": [
    {
     "name": "stdout",
     "output_type": "stream",
     "text": [
      "Requirement already satisfied: python-whois in c:\\users\\suzal\\anaconda3\\envs\\pcenv\\lib\\site-packages (0.9.4)\n",
      "Requirement already satisfied: python-dateutil in c:\\users\\suzal\\anaconda3\\envs\\pcenv\\lib\\site-packages (from python-whois) (2.9.0.post0)\n",
      "Requirement already satisfied: six>=1.5 in c:\\users\\suzal\\anaconda3\\envs\\pcenv\\lib\\site-packages (from python-dateutil->python-whois) (1.16.0)\n"
     ]
    }
   ],
   "source": [
    "!pip install python-whois"
   ]
  },
  {
   "cell_type": "code",
   "execution_count": 8,
   "metadata": {},
   "outputs": [
    {
     "name": "stdout",
     "output_type": "stream",
     "text": [
      "Requirement already satisfied: networkx in c:\\users\\suzal\\anaconda3\\envs\\pcenv\\lib\\site-packages (3.1)\n",
      "Note: you may need to restart the kernel to use updated packages.\n"
     ]
    }
   ],
   "source": [
    "pip install networkx"
   ]
  },
  {
   "cell_type": "code",
   "execution_count": 9,
   "metadata": {},
   "outputs": [],
   "source": [
    "from urllib.parse import urlparse,urlencode\n",
    "import ipaddress\n",
    "import re\n",
    "from bs4 import BeautifulSoup\n",
    "import whois\n",
    "import urllib\n",
    "import urllib.request\n",
    "from datetime import datetime\n",
    "import requests\n",
    "from bs4 import BeautifulSoup\n",
    "import networkx as nx\n",
    "import joblib\n",
    "import numpy as np\n",
    "import pandas as pd"
   ]
  },
  {
   "cell_type": "code",
   "execution_count": 10,
   "metadata": {},
   "outputs": [],
   "source": [
    "from Phishingproject.utils.common import *\n",
    "from Phishingproject.constants import *"
   ]
  },
  {
   "cell_type": "code",
   "execution_count": 11,
   "metadata": {},
   "outputs": [],
   "source": [
    "class ConfigurationManager:\n",
    "    def __init__(\n",
    "        self,\n",
    "        config_filepath = CONFIG_FILE_PATH,\n",
    "        params_filepath = PARAMS_FILE_PATH,\n",
    "        schema_filepath = SCHEMA_FILE_PATH):\n",
    "\n",
    "        self.config = read_yaml_file(config_filepath)\n",
    "        self.params = read_yaml_file(params_filepath)\n",
    "        self.schema = read_yaml_file(schema_filepath)\n",
    "\n",
    "    def get_prediction_config(self) -> PredictionConfig:\n",
    "        config = self.config.prediction\n",
    "        \n",
    "        prediction_config = PredictionConfig(\n",
    "            model_path = config.model_path  \n",
    "        )\n",
    "\n",
    "        return prediction_config"
   ]
  },
  {
   "cell_type": "code",
   "execution_count": 12,
   "metadata": {},
   "outputs": [],
   "source": [
    "class PredictionPipeline:\n",
    "    def __init__(self,config:PredictionConfig):\n",
    "        self.config = config\n",
    "\n",
    "    def featureExtraction(self,url):\n",
    "        features = []\n",
    "        #Address bar based features (10)\n",
    "        features.append(havingIP(url))\n",
    "        features.append(haveAtSign(url))\n",
    "        features.append(getLength(url))\n",
    "        features.append(getDepth(url))\n",
    "        features.append(redirection(url))\n",
    "        features.append(httpDomain(url))\n",
    "        features.append(tinyURL(url))\n",
    "        features.append(prefixSuffix(url))\n",
    "        #Domain based features (4)\n",
    "        dns = 0\n",
    "        try:\n",
    "          domain_name = whois.whois(urlparse(url).netloc)\n",
    "        except:\n",
    "          dns = 1\n",
    "\n",
    "        features.append(dns)\n",
    "        features.append(is_potential_phishing(url))\n",
    "        features.append(1 if dns == 1 else domainAge(domain_name))\n",
    "        features.append(1 if dns == 1 else domainEnd(domain_name))\n",
    "\n",
    "        # HTML & Javascript based features (4)\n",
    "        try:\n",
    "          response = requests.get(url)\n",
    "        except:\n",
    "          response = \"\"\n",
    "        features.append(iframe(response))\n",
    "        features.append(mouseOver(response))\n",
    "        features.append(rightClick(response))\n",
    "        features.append(forwarding(response))\n",
    "\n",
    "        print(features)\n",
    "        print(type(features))\n",
    "        print(len(features))\n",
    "\n",
    "        return features\n",
    "    \n",
    "    def predict(self,url):\n",
    "        model=joblib.load(self.config.model_path)\n",
    "        data=self.featureExtraction(url)\n",
    "        # Get the feature names from the model\n",
    "        if hasattr(model, 'feature_names_in_'):\n",
    "          feature_names = model.feature_names_in_\n",
    "        else:\n",
    "        # If feature names are not available, create generic names\n",
    "          feature_names = [f'feature_{i}' for i in range(len(data))]\n",
    "        print(feature_names)\n",
    "        # Create a pandas DataFrame with the correct feature names\n",
    "        input_df = pd.DataFrame([data], columns=feature_names)\n",
    "        pred=int((model.predict(input_df))[0])\n",
    "        # pred=int(pred[0])\n",
    "        print(type(pred))\n",
    "        print(pred)\n"
   ]
  },
  {
   "cell_type": "code",
   "execution_count": 13,
   "metadata": {},
   "outputs": [
    {
     "name": "stdout",
     "output_type": "stream",
     "text": [
      "[2024-07-11 17:50:51,819: INFO:common: yaml file: config\\config.yaml loaded successfully]\n",
      "[2024-07-11 17:50:51,819: INFO:common: yaml file: params.yaml loaded successfully]\n",
      "[2024-07-11 17:50:51,827: INFO:common: yaml file: schema.yaml loaded successfully]\n",
      "Error occurred while evaluating http://emgn.com/tv/schnauzer-passes-out-with-excitement-when-he-is-reunited-with-his-human-after-2-years/: HTTPConnectionPool(host='emgn.com', port=80): Max retries exceeded with url: /tv/schnauzer-passes-out-with-excitement-when-he-is-reunited-with-his-human-after-2-years/ (Caused by NameResolutionError(\"<urllib3.connection.HTTPConnection object at 0x000001349CF923A0>: Failed to resolve 'emgn.com' ([Errno 11002] getaddrinfo failed)\"))\n",
      "[0, 0, 1, 2, 0, 0, 0, 0, 0, 0, 1, 1, 1, 1, 1, 1]\n",
      "<class 'list'>\n",
      "16\n",
      "['Have_IP' 'Have_At' 'URL_Length' 'URL_Depth' 'Redirection' 'https_Domain'\n",
      " 'TinyURL' 'Prefix/Suffix' 'DNS_Record' 'Web_Traffic' 'Domain_Age'\n",
      " 'Domain_End' 'iFrame' 'Mouse_Over' 'Right_Click' 'Web_Forwards']\n",
      "<class 'int'>\n",
      "1\n"
     ]
    }
   ],
   "source": [
    "try:\n",
    "    config = ConfigurationManager()\n",
    "    prediction_config = config.get_prediction_config()\n",
    "    prediction= PredictionPipeline(config=prediction_config)\n",
    "    PW=prediction.predict(\"http://emgn.com/tv/schnauzer-passes-out-with-excitement-when-he-is-reunited-with-his-human-after-2-years/\")\n",
    "except Exception as e:\n",
    "    raise e"
   ]
  },
  {
   "cell_type": "code",
   "execution_count": null,
   "metadata": {},
   "outputs": [],
   "source": []
  }
 ],
 "metadata": {
  "kernelspec": {
   "display_name": "pcenv",
   "language": "python",
   "name": "python3"
  },
  "language_info": {
   "codemirror_mode": {
    "name": "ipython",
    "version": 3
   },
   "file_extension": ".py",
   "mimetype": "text/x-python",
   "name": "python",
   "nbconvert_exporter": "python",
   "pygments_lexer": "ipython3",
   "version": "3.8.19"
  }
 },
 "nbformat": 4,
 "nbformat_minor": 2
}
