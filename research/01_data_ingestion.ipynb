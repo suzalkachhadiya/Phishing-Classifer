{
 "cells": [
  {
   "cell_type": "code",
   "execution_count": 1,
   "metadata": {},
   "outputs": [],
   "source": [
    "import os"
   ]
  },
  {
   "cell_type": "code",
   "execution_count": 2,
   "metadata": {},
   "outputs": [
    {
     "data": {
      "text/plain": [
       "'c:\\\\DataScience\\\\Projects\\\\Phishing_Classifier\\\\research'"
      ]
     },
     "execution_count": 2,
     "metadata": {},
     "output_type": "execute_result"
    }
   ],
   "source": [
    "%pwd"
   ]
  },
  {
   "cell_type": "code",
   "execution_count": 3,
   "metadata": {},
   "outputs": [],
   "source": [
    "os.chdir(\"../\")"
   ]
  },
  {
   "cell_type": "code",
   "execution_count": 4,
   "metadata": {},
   "outputs": [
    {
     "data": {
      "text/plain": [
       "'c:\\\\DataScience\\\\Projects\\\\Phishing_Classifier'"
      ]
     },
     "execution_count": 4,
     "metadata": {},
     "output_type": "execute_result"
    }
   ],
   "source": [
    "%pwd"
   ]
  },
  {
   "cell_type": "code",
   "execution_count": 5,
   "metadata": {},
   "outputs": [],
   "source": [
    "from dataclasses import dataclass\n",
    "from pathlib import Path\n",
    "\n",
    "\n",
    "@dataclass(frozen=True)\n",
    "class DataIngestionConfig:\n",
    "    root_dir: Path\n",
    "    local_data_file: Path\n",
    "    destination_folder: Path\n"
   ]
  },
  {
   "cell_type": "code",
   "execution_count": 6,
   "metadata": {},
   "outputs": [],
   "source": [
    "from Phishingproject.constants import *\n",
    "from Phishingproject.utils.common import read_yaml_file, create_directories"
   ]
  },
  {
   "cell_type": "code",
   "execution_count": 7,
   "metadata": {},
   "outputs": [],
   "source": [
    "class ConfigurationManager:\n",
    "    def __init__(\n",
    "        self,\n",
    "        config_filepath = CONFIG_FILE_PATH,\n",
    "        params_filepath = PARAMS_FILE_PATH,\n",
    "        schema_filepath = SCHEMA_FILE_PATH):\n",
    "\n",
    "        self.config = read_yaml_file(config_filepath)\n",
    "        self.params = read_yaml_file(params_filepath)\n",
    "        self.schema = read_yaml_file(schema_filepath)\n",
    "\n",
    "        create_directories([self.config.artifacts_root])\n",
    "\n",
    "\n",
    "    def get_data_ingestion_config(self) -> DataIngestionConfig:\n",
    "        config = self.config.data_ingestion\n",
    "\n",
    "        create_directories([config.root_dir])\n",
    "\n",
    "        data_ingestion_config = DataIngestionConfig(\n",
    "            root_dir=config.root_dir,\n",
    "            local_data_file=config.local_data_file,\n",
    "            destination_folder=config.destination_folder\n",
    "        )\n",
    "\n",
    "        return data_ingestion_config"
   ]
  },
  {
   "cell_type": "code",
   "execution_count": 8,
   "metadata": {},
   "outputs": [],
   "source": [
    "import shutil"
   ]
  },
  {
   "cell_type": "code",
   "execution_count": 9,
   "metadata": {},
   "outputs": [],
   "source": [
    "class DataIngestion:\n",
    "    def __init__(self, config: DataIngestionConfig):\n",
    "        self.config = config\n",
    "\n",
    "    def upload_and_save_text_file(self):\n",
    "            files_in_folder = os.listdir(SAVED_FILE_PATH)\n",
    "            first_file = files_in_folder[4]\n",
    "            print(\"first_file:\",first_file)\n",
    "            file_path = os.path.join(SAVED_FILE_PATH, first_file)\n",
    "            # print(file_name)\n",
    "            # print(f\"Selected file: {file_path}\")\n",
    "                \n",
    "                # Create the destination folder if it doesn't exist\n",
    "            os.makedirs(self.config.destination_folder, exist_ok=True)\n",
    "                \n",
    "                # Define the destination path\n",
    "            destination_path = os.path.join(self.config.destination_folder, first_file)\n",
    "            # print(\"destination_path:\",destination_path)\n",
    "            \n",
    "            # normalized_path = os.path.normpath(destination_path)\n",
    "\n",
    "            # unix_style_path = normalized_path.replace(os.sep, '/')\n",
    "            # print(\"unix_style_path:\",unix_style_path)\n",
    "            try:\n",
    "                    # Copy the file to the destination folder\n",
    "                    shutil.copy2(file_path, destination_path)\n",
    "                    print(f\"File saved to: {destination_path}\")\n",
    "                    \n",
    "                    # # Read the content of the file\n",
    "                    # with open(unix_style_path, 'r', encoding='utf-8') as file:\n",
    "                    #     file_content = file.read()\n",
    "                    \n",
    "                    return #{file_name: file_content}\n",
    "            except Exception as e:\n",
    "                    print(f\"Error: Unable to save or read {first_file}. {str(e)}\")\n",
    "                    return #{}\n",
    "            else:\n",
    "                print(\"No file selected\")\n",
    "                return #{}"
   ]
  },
  {
   "cell_type": "code",
   "execution_count": 10,
   "metadata": {},
   "outputs": [
    {
     "name": "stdout",
     "output_type": "stream",
     "text": [
      "[2024-07-09 22:34:57,536: INFO:common: yaml file: config\\config.yaml loaded successfully]\n",
      "[2024-07-09 22:34:57,536: INFO:common: yaml file: params.yaml loaded successfully]\n",
      "[2024-07-09 22:34:57,545: INFO:common: yaml file: schema.yaml loaded successfully]\n",
      "[2024-07-09 22:34:57,549: INFO:common: createD Directory at:artifacts]\n",
      "[2024-07-09 22:34:57,550: INFO:common: createD Directory at:artifacts/data_ingestion]\n",
      "first_file: urldata.csv\n",
      "File saved to: artifacts/data_ingestion\\urldata.csv\n"
     ]
    }
   ],
   "source": [
    "try:\n",
    "    config = ConfigurationManager()\n",
    "    data_ingestion_config = config.get_data_ingestion_config()\n",
    "    data_ingestion = DataIngestion(config=data_ingestion_config)\n",
    "    data_ingestion.upload_and_save_text_file()\n",
    "except Exception as e:\n",
    "    raise e"
   ]
  }
 ],
 "metadata": {
  "kernelspec": {
   "display_name": "pcenv",
   "language": "python",
   "name": "python3"
  },
  "language_info": {
   "codemirror_mode": {
    "name": "ipython",
    "version": 3
   },
   "file_extension": ".py",
   "mimetype": "text/x-python",
   "name": "python",
   "nbconvert_exporter": "python",
   "pygments_lexer": "ipython3",
   "version": "3.8.19"
  }
 },
 "nbformat": 4,
 "nbformat_minor": 2
}
